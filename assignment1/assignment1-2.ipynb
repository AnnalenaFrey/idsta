{
 "cells": [
  {
   "cell_type": "markdown",
   "metadata": {},
   "source": [
    "Group G: Jan Kerschbaum, Sandra Friebolin, Dilara Aykurth, Annalena Frey"
   ]
  },
  {
   "cell_type": "markdown",
   "metadata": {},
   "source": [
    "# Assignment 1 - Exercise 2"
   ]
  },
  {
   "cell_type": "code",
   "execution_count": 1,
   "metadata": {},
   "outputs": [],
   "source": [
    "#(i)\n",
    "def verify_regex(expression: str) -> bool:\n",
    "    forbidden_char = [\"^\", \"*\", \"|\", \"+\", \"?\"]\n",
    "    number_of_brackets = 0\n",
    "\n",
    "    #checking for same number of brackets and if forbidden characters are next\n",
    "    #to each other\n",
    "    for i in range(len(expression))[:-1]:\n",
    "        if expression[i] == \"(\":\n",
    "            number_of_brackets += 1\n",
    "        if expression[i] == \")\":\n",
    "            number_of_brackets -= 1\n",
    "\n",
    "        if(expression[i] in forbidden_char) and (expression[i+1] in forbidden_char):\n",
    "            return False\n",
    "    \n",
    "    #as the last character is missing, we address it separately\n",
    "    if expression[-1] == \"(\":\n",
    "        number_of_brackets += 1\n",
    "    if expression[-1] == \")\":\n",
    "        number_of_brackets -= 1\n",
    "    \n",
    "    #print(number_of_brackets)\n",
    "    if number_of_brackets != 0:\n",
    "        return False\n",
    "    if number_of_brackets == 0:\n",
    "        return True\n",
    "    \n",
    "    copy_expression = expression\n",
    "    copy_expression = expression.replace(\"^\", \"\").replace(\"|\", \"\").replace(\"*\", \"\").replace(\"+\", \"\").replace(\"?\", \"\")\n",
    "    if copy_expression == \"\":\n",
    "        return True\n",
    "    if copy_expression.isalnum():\n",
    "        return True\n",
    "    if not copy_expression.isalnum():\n",
    "        return False\n",
    "\n",
    "    \n",
    "\n",
    "\n"
   ]
  },
  {
   "cell_type": "code",
   "execution_count": 2,
   "metadata": {},
   "outputs": [
    {
     "name": "stdout",
     "output_type": "stream",
     "text": [
      "True\n",
      "True\n",
      "True\n",
      "False\n",
      "False\n",
      "True\n",
      "False\n"
     ]
    }
   ],
   "source": [
    "print(verify_regex(\"Hallo\"))   #expected: True\n",
    "print(verify_regex(\"Hallo*\"))  #expected: True\n",
    "print(verify_regex(\"(Hallo)\")) #expected: True\n",
    "print(verify_regex(\"Hallo*?\")) #expected: False due to *? next to each other\n",
    "print(verify_regex(\"(Hallo(\")) #expected: False due to wrong brackets\n",
    "print(verify_regex(\"()\"))      #expected: True\n",
    "print(verify_regex(\"(HÄlü\"))   #expected: False\n"
   ]
  },
  {
   "cell_type": "code",
   "execution_count": null,
   "metadata": {},
   "outputs": [],
   "source": []
  }
 ],
 "metadata": {
  "kernelspec": {
   "display_name": "Python 3 (ipykernel)",
   "language": "python",
   "name": "python3"
  },
  "language_info": {
   "codemirror_mode": {
    "name": "ipython",
    "version": 3
   },
   "file_extension": ".py",
   "mimetype": "text/x-python",
   "name": "python",
   "nbconvert_exporter": "python",
   "pygments_lexer": "ipython3",
   "version": "3.7.3"
  }
 },
 "nbformat": 4,
 "nbformat_minor": 1
}
