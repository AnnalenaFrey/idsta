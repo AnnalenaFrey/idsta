{
 "cells": [
  {
   "cell_type": "markdown",
   "metadata": {},
   "source": [
    "Group G: Jan Kerschbaum, Sandra Friebolin, Dilara Aykurth, Annalena Frey"
   ]
  },
  {
   "cell_type": "markdown",
   "metadata": {},
   "source": [
    "# Assignment 1 Exercise 3"
   ]
  },
  {
   "cell_type": "markdown",
   "metadata": {},
   "source": [
    "## Exercise 3 Task 1"
   ]
  },
  {
   "cell_type": "code",
   "execution_count": 108,
   "metadata": {
    "pycharm": {
     "is_executing": true
    }
   },
   "outputs": [],
   "source": [
    "import PyPDF2                   # install via: pip install PyPDF2\n",
    "from PyPDF2 import PdfFileReader\n",
    "import fitz                     # install via: pip install PyMuPDF\n",
    "from difflib import SequenceMatcher\n",
    "import time\n",
    "import re"
   ]
  },
  {
   "cell_type": "code",
   "execution_count": 109,
   "metadata": {},
   "outputs": [],
   "source": [
    "#first way of extracting the content of the pdf files by using PyPDF2\n",
    "\n",
    "def extract_text_with_pypdf(path):\n",
    "    with open(path, \"rb\") as pdf_file:\n",
    "        read_pdf = PdfFileReader(pdf_file)\n",
    "        number_of_pages = read_pdf.getNumPages()\n",
    "        text = \"\"\n",
    "        for page_number in range(number_of_pages):\n",
    "            page = read_pdf.getPage(page_number)\n",
    "\n",
    "            text += page.extractText()\n",
    "        return text\n",
    "        "
   ]
  },
  {
   "cell_type": "code",
   "execution_count": 110,
   "metadata": {},
   "outputs": [],
   "source": [
    "#second way of extracting the content of the pdf files by using PyMuPDF\n",
    "\n",
    "def extract_text_with_pymupdf(path):\n",
    "    with fitz.open(path) as doc:\n",
    "        text = \"\"\n",
    "        for page in doc:\n",
    "            text += page.get_text()\n",
    "    return(text)\n",
    "    "
   ]
  },
  {
   "cell_type": "code",
   "execution_count": 111,
   "metadata": {},
   "outputs": [],
   "source": [
    "#Extraction of the liste1 file with both ways, creating a text file for each\n",
    "\n",
    "path_iban = \"1-3-pdf-files\\iban\\liste1.pdf\"\n",
    "\n",
    "start_time = time.time()\n",
    "iban_extracted = extract_text_with_pypdf(path_iban)\n",
    "end_time = time.time()\n",
    "\n",
    "start_time_1 = time.time()\n",
    "iban_extracted_2 = extract_text_with_pymupdf(path_iban)\n",
    "end_time_1 = time.time()\n",
    "\n",
    "with open(\"result_iban.txt\", \"w\", encoding=\"utf-8\") as file_result_iban:\n",
    "    file_result_iban.write(iban_extracted)\n",
    "    \n",
    "with open(\"result_iban_pymupdf.txt\", \"w\", encoding=\"utf-8\") as file_result_iban:\n",
    "    file_result_iban.write(iban_extracted_2)"
   ]
  },
  {
   "cell_type": "code",
   "execution_count": 119,
   "metadata": {},
   "outputs": [
    {
     "name": "stderr",
     "output_type": "stream",
     "text": [
      "Xref table not zero-indexed. ID numbers for objects will be corrected.\n"
     ]
    }
   ],
   "source": [
    "#Extraction of the bahnstadt file with both ways, creating a text file for each\n",
    "\n",
    "path_bahnstadt = \"1-3-pdf-files/flyers/bahnstadt.pdf\"\n",
    "\n",
    "start_time_2 = time.time()\n",
    "bahnstadt_extracted = extract_text_with_pypdf(path_bahnstadt)\n",
    "end_time_2 = time.time()\n",
    "\n",
    "start_time_3 = time.time()\n",
    "bahnstadt_extracted_2 = extract_text_with_pymupdf(path_bahnstadt)\n",
    "end_time_3 = time.time()\n",
    "\n",
    "with open(\"result_bahnstadt.txt\", \"w\", encoding=\"utf-8\") as file_result_bahnstadt:\n",
    "    file_result_bahnstadt.write(bahnstadt_extracted)\n",
    "    \n",
    "with open(\"result_bahnstadt_pymupdf.txt\", \"w\", encoding=\"utf-8\") as file_result_bahnstadt:\n",
    "    file_result_bahnstadt.write(bahnstadt_extracted_2)"
   ]
  },
  {
   "cell_type": "code",
   "execution_count": 88,
   "metadata": {},
   "outputs": [],
   "source": [
    "#Extraction of the bundeswehr file with both ways, creating a text file for each\n",
    "\n",
    "path_bundeswehr = \"1-3-pdf-files/flyers/bundeswehr.pdf\"\n",
    "\n",
    "start_time_4 = time.time()\n",
    "bundeswehr_extracted = extract_text_with_pypdf(path_bundeswehr)\n",
    "end_time_4 = time.time()\n",
    "\n",
    "start_time_5 = time.time()\n",
    "bundeswehr_extracted_2 = extract_text_with_pymupdf(path_bundeswehr)\n",
    "end_time_5 = time.time()\n",
    "\n",
    "with open(\"result_bundeswehr.txt\", \"w\", encoding=\"utf-8\") as file_result_bundeswehr:\n",
    "    file_result_bundeswehr.write(bundeswehr_extracted)\n",
    "    \n",
    "with open(\"result_bundeswehr_pymupdf.txt\", \"w\", encoding=\"utf-8\") as file_result_bundeswehr:\n",
    "    file_result_bundeswehr.write(bundeswehr_extracted_2)"
   ]
  },
  {
   "cell_type": "code",
   "execution_count": 89,
   "metadata": {},
   "outputs": [],
   "source": [
    "#Extraction of the wegweiser_senioren file with both ways, creating a text file for each\n",
    "\n",
    "path_senioren = \"1-3-pdf-files/flyers/wegweiser_senioren.pdf\"\n",
    "\n",
    "start_time_6 = time.time()\n",
    "senioren_extracted = extract_text_with_pypdf(path_senioren)\n",
    "end_time_6 = time.time()\n",
    "\n",
    "start_time_7 = time.time()\n",
    "senioren_extracted_2 = extract_text_with_pymupdf(path_senioren)\n",
    "end_time_7 = time.time()\n",
    "\n",
    "with open(\"result_senioren.txt\", \"w\", encoding=\"utf-8\") as file_result_senioren:\n",
    "    file_result_senioren.write(senioren_extracted)\n",
    "    \n",
    "with open(\"result_senioren_pymupdf.txt\", \"w\", encoding=\"utf-8\") as file_result_senioren:\n",
    "    file_result_senioren.write(senioren_extracted_2)"
   ]
  },
  {
   "cell_type": "code",
   "execution_count": 90,
   "metadata": {},
   "outputs": [],
   "source": [
    "#Extraction of the double_ocr file with both ways, creating a text file for each\n",
    "\n",
    "path_double = \"1-3-pdf-files/scans/double_ocr.pdf\"\n",
    "\n",
    "start_time_8 = time.time()\n",
    "double_extracted = extract_text_with_pypdf(path_double)\n",
    "end_time_8 = time.time()\n",
    "\n",
    "start_time_9 = time.time()\n",
    "double_extracted_2 = extract_text_with_pymupdf(path_double)\n",
    "end_time_9 = time.time()\n",
    "\n",
    "\n",
    "with open(\"result_double.txt\", \"w\", encoding=\"utf-8\") as file_result_double:\n",
    "    file_result_double.write(double_extracted)\n",
    "    \n",
    "with open(\"result_double_pymupdf.txt\", \"w\", encoding=\"utf-8\") as file_result_double:\n",
    "    file_result_double.write(double_extracted_2)"
   ]
  },
  {
   "cell_type": "code",
   "execution_count": 91,
   "metadata": {},
   "outputs": [],
   "source": [
    "#Extraction of the single_ocr file with both ways, creating a text file for each\n",
    "\n",
    "path_single = \"1-3-pdf-files/scans/single_ocr.pdf\"\n",
    "\n",
    "start_time_10 = time.time()\n",
    "single_extracted = extract_text_with_pypdf(path_single)\n",
    "end_time_10 = time.time()\n",
    "\n",
    "start_time_11 = time.time()\n",
    "single_extracted_2 = extract_text_with_pymupdf(path_single)\n",
    "end_time_11 = time.time()\n",
    "\n",
    "with open(\"result_single.txt\", \"w\", encoding=\"utf-8\") as file_result_single:\n",
    "    file_result_single.write(single_extracted)\n",
    "    \n",
    "with open(\"result_single_pymupdf.txt\", \"w\", encoding=\"utf-8\") as file_result_single:\n",
    "    file_result_single.write(single_extracted_2)"
   ]
  },
  {
   "cell_type": "code",
   "execution_count": 81,
   "metadata": {},
   "outputs": [
    {
     "name": "stdout",
     "output_type": "stream",
     "text": [
      "Iban: 0.8938573782066369\n",
      "Bahnstadt: 0.9276858073006857\n",
      "Bundeswehr: 0.9419078587872761\n",
      "Wegweiser Senioren: 0.975422067584519\n",
      "Double: 0.973109517601043\n",
      "Single: 0.9542767677413171\n"
     ]
    }
   ],
   "source": [
    "#Comparing of both output files\n",
    "\n",
    "seq_iban = SequenceMatcher(None, iban_extracted, iban_extracted_2).ratio()\n",
    "print(\"Iban:\", seq_iban)\n",
    "\n",
    "seq_bahnstadt = SequenceMatcher(None, bahnstadt_extracted, bahnstadt_extracted_2).ratio()\n",
    "print(\"Bahnstadt:\", seq_bahnstadt)\n",
    "\n",
    "seq_bundeswehr = SequenceMatcher(None, bundeswehr_extracted, bundeswehr_extracted_2).ratio()\n",
    "print(\"Bundeswehr:\", seq_bundeswehr)\n",
    "\n",
    "seq_senioren = SequenceMatcher(None, senioren_extracted, senioren_extracted_2).ratio()\n",
    "print(\"Wegweiser Senioren:\", seq_senioren)\n",
    "\n",
    "seq_double = SequenceMatcher(None, double_extracted, double_extracted_2).ratio()\n",
    "print(\"Double:\", seq_double)\n",
    "\n",
    "seq_single = SequenceMatcher(None, single_extracted, single_extracted_2).ratio()\n",
    "print(\"Single:\", seq_single)"
   ]
  },
  {
   "cell_type": "code",
   "execution_count": 99,
   "metadata": {
    "scrolled": true
   },
   "outputs": [
    {
     "name": "stdout",
     "output_type": "stream",
     "text": [
      "Time iban with PyPDF2: 0.12916135787963867\n",
      "Time iban with PyMuPDF: 0.007001161575317383\n",
      "Time bahnstadt with PyPDf2: 5.53838038444519\n",
      "Time bahnstadt with pyMuPDF: 0.25673913955688477\n",
      "Time bahnstadt with PyPDf2: 4.839709997177124\n",
      "Time bahnstadt with pyMuPDF: 0.21963930130004883\n",
      "Time wegweiser senioren with PyPDf2: 3.570140838623047\n",
      "Time wegweiser senioren with pyMuPDF: 0.12845206260681152\n",
      "Time double with PyPDf2: 0.2986936569213867\n",
      "Time double with pyMuPDF: 0.007999181747436523\n",
      "Time single with PyPDf2: 0.3879704475402832\n",
      "Time single with pyMuPDF: 0.009241580963134766\n"
     ]
    }
   ],
   "source": [
    "#Compute execution time\n",
    "\n",
    "time_iban = end_time - start_time\n",
    "print(\"Time iban with PyPDF2:\", time_iban)\n",
    "time_iban_2 = end_time_1 - start_time_1\n",
    "print(\"Time iban with PyMuPDF:\", time_iban_2)\n",
    "\n",
    "time_bahnstadt = end_time_2 - start_time_2\n",
    "print(\"Time bahnstadt with PyPDf2:\", time_bahnstadt)\n",
    "time_bahnstadt_2 = end_time_3 - start_time_3\n",
    "print(\"Time bahnstadt with pyMuPDF:\", time_bahnstadt_2)\n",
    "\n",
    "time_bundeswehr = end_time_4 - start_time_4\n",
    "print(\"Time bahnstadt with PyPDf2:\", time_bundeswehr)\n",
    "time_bundeswehr_2 = end_time_5 - start_time_5\n",
    "print(\"Time bahnstadt with pyMuPDF:\", time_bundeswehr_2)\n",
    "\n",
    "time_senioren = end_time_6 - start_time_6\n",
    "print(\"Time wegweiser senioren with PyPDf2:\", time_senioren)\n",
    "time_senioren_2 = end_time_7 - start_time_7\n",
    "print(\"Time wegweiser senioren with pyMuPDF:\", time_senioren_2)\n",
    "\n",
    "time_double = end_time_8 - start_time_8\n",
    "print(\"Time double with PyPDf2:\", time_double)\n",
    "time_double_2 = end_time_9 - start_time_9\n",
    "print(\"Time double with pyMuPDF:\", time_double_2)\n",
    "\n",
    "time_single = end_time_10 - start_time_10\n",
    "print(\"Time single with PyPDf2:\", time_single)\n",
    "time_single_2 = end_time_11 - start_time_11\n",
    "print(\"Time single with pyMuPDF:\", time_single_2)"
   ]
  },
  {
   "cell_type": "markdown",
   "metadata": {},
   "source": [
    "When comparing both extracted files, it can be seen that both files are quite similar.\n",
    "As it can be seen, extracting the content of a file with PyPDF2 takes significantly longer than with PyMuPDf.\n",
    "\n",
    "Due to PyMuPDF being faster in extracting the text from the pdf files, the raw text files will be included in the submission folder."
   ]
  },
  {
   "cell_type": "markdown",
   "metadata": {},
   "source": [
    "## Exercise 3 Task 2"
   ]
  },
  {
   "cell_type": "markdown",
   "metadata": {},
   "source": [
    "Extracting plain text from a pdf file is no easy task. PDF files do not follow a strict structure or format. The content of pdf files can differ in font, font size, or angle. The text of a pdf file does not follow a strict layout, it can be for example written in multi-column format, which can cause problems when extracting it line for line. Spaced out words, which may be used for punctuations, can also cause problems, as the seperation with whitespaces can result in treating every character as a single word."
   ]
  },
  {
   "cell_type": "markdown",
   "metadata": {},
   "source": [
    "## Exercise 3 Task 3"
   ]
  },
  {
   "cell_type": "code",
   "execution_count": 121,
   "metadata": {},
   "outputs": [],
   "source": [
    "# (i) Extract as many valid phone numbers as possible\n",
    "phone_numbers = []\n",
    "for number in bahnstadt_extracted:\n",
    "    matches = re.findall(#regex ausdruck, den ich nicht verstehe, wie man den macht\", number)\n",
    "    for m in matches:\n",
    "        m_cleaned = m[0].replace(\"\\n\", \"\").replace(\"\\t\", \"\").replace(\" \", \"\").replace(\"-\", \"\").replace(\"/\", \"\")\n",
    "        phone_numbers.append(m_cleaned)\n",
    "\n",
    "for p in phone_numbers:\n",
    "    print(p)\n",
    "        \n",
    "for p in phone_numbers:\n",
    "    with open(\"phone_numbers_extracted.txt\", \"w\", encoding = \"utf-8\") as phonenumbers:\n",
    "        phonenumbers.write(phone_numbers)\n",
    "    \n",
    "    \n"
   ]
  },
  {
   "cell_type": "code",
   "execution_count": null,
   "metadata": {},
   "outputs": [],
   "source": []
  },
  {
   "cell_type": "code",
   "execution_count": null,
   "metadata": {},
   "outputs": [],
   "source": []
  }
 ],
 "metadata": {
  "kernelspec": {
   "display_name": "Python 3 (ipykernel)",
   "language": "python",
   "name": "python3"
  },
  "language_info": {
   "codemirror_mode": {
    "name": "ipython",
    "version": 3
   },
   "file_extension": ".py",
   "mimetype": "text/x-python",
   "name": "python",
   "nbconvert_exporter": "python",
   "pygments_lexer": "ipython3",
   "version": "3.7.3"
  }
 },
 "nbformat": 4,
 "nbformat_minor": 1
}
